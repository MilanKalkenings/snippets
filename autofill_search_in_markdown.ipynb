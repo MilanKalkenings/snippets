{
 "cells": [
  {
   "cell_type": "code",
   "execution_count": 3,
   "metadata": {},
   "outputs": [
    {
     "name": "stdout",
     "output_type": "stream",
     "text": [
      "<a id=\"cell_a\"></a>\n",
      "\n",
      "<p id=\"title\">Cell A</p>\n",
      "<p>hallodri hallali hallig hallige hallo</p>\n",
      "<a id=\"cell_b\"></a>\n",
      "\n",
      "<p id=\"title\">Cell B</p>\n",
      "<p>hallo halo hall hallihallo halle</p>\n"
     ]
    }
   ],
   "source": [
    "\n",
    "\n",
    "\n"
   ]
  },
  {
   "cell_type": "code",
   "execution_count": 9,
   "metadata": {},
   "outputs": [
    {
     "name": "stdout",
     "output_type": "stream",
     "text": [
      "Selected word: hallo\n"
     ]
    },
    {
     "data": {
      "text/html": [
       "<a href=\"#cell_a\">go to Cell A</a>"
      ],
      "text/plain": [
       "<IPython.core.display.HTML object>"
      ]
     },
     "metadata": {},
     "output_type": "display_data"
    },
    {
     "data": {
      "text/html": [
       "<a href=\"#cell_b\">go to Cell B</a>"
      ],
      "text/plain": [
       "<IPython.core.display.HTML object>"
      ]
     },
     "metadata": {},
     "output_type": "display_data"
    },
    {
     "name": "stdout",
     "output_type": "stream",
     "text": [
      "Selected word: halle\n"
     ]
    },
    {
     "data": {
      "text/html": [
       "<a href=\"#cell_b\">go to Cell B</a>"
      ],
      "text/plain": [
       "<IPython.core.display.HTML object>"
      ]
     },
     "metadata": {},
     "output_type": "display_data"
    }
   ],
   "source": [
    "import tkinter as tk\n",
    "from IPython.display import display, HTML\n",
    "import nbformat\n",
    "import re\n",
    "\n",
    "\n",
    "def get_markdown_cells(notebook_path):\n",
    "    if notebook_path:\n",
    "        with open(notebook_path) as f:\n",
    "            notebook_content = nbformat.read(f, as_version=4)\n",
    "        markdown_contents = []\n",
    "        for cell in notebook_content.cells:\n",
    "            if cell.cell_type == 'markdown':\n",
    "                markdown_contents.append(cell.source)\n",
    "        \n",
    "        return markdown_contents\n",
    "    else:\n",
    "        return []\n",
    "\n",
    "\n",
    "def clean(string: str):\n",
    "    return re.sub(pattern=\"\\\\n\", repl=\"\", string=string)\n",
    "\n",
    "\n",
    "class WordSuggestionApp:\n",
    "    def __init__(self, root, word_list):\n",
    "        self.word_list = word_list\n",
    "        self.root = root\n",
    "        self.root.title(\"Word Suggestion App\")\n",
    "\n",
    "        # Input Label\n",
    "        self.label = tk.Label(root, text=\"Enter letters:\")\n",
    "        self.label.pack(pady=10)\n",
    "\n",
    "        # Input field\n",
    "        self.entry = tk.Entry(root, width=40)\n",
    "        self.entry.pack(pady=10)\n",
    "        self.entry.bind(\"<KeyRelease>\", self.on_key_release)\n",
    "\n",
    "        # Frame for suggestion buttons\n",
    "        self.suggestion_frame = tk.Frame(root)\n",
    "        self.suggestion_frame.pack(pady=10)\n",
    "\n",
    "        # List to keep track of suggestion buttons\n",
    "        self.suggestion_buttons = []\n",
    "        self.selected_index = -1  # Track the currently selected button\n",
    "\n",
    "    def on_key_release(self, event):\n",
    "        input_text = self.entry.get()\n",
    "        self.update_suggestions(input_text)\n",
    "\n",
    "    def update_suggestions(self, substring):\n",
    "        # Clear the current suggestions\n",
    "        self.clear_suggestions()\n",
    "\n",
    "        # Find words containing the substring\n",
    "        filtered_words = [word for word in self.word_list if substring in word]\n",
    "\n",
    "        # Sort by length and get the 5 shortest\n",
    "        filtered_words = sorted(filtered_words, key=len)[:5]\n",
    "\n",
    "        # Create buttons for suggestions\n",
    "        for index, word in enumerate(filtered_words):\n",
    "            btn = tk.Button(self.suggestion_frame, text=word, command=lambda w=word: self.select_word(w))\n",
    "            btn.pack(pady=2, fill='x')  # Fill horizontally\n",
    "            self.suggestion_buttons.append(btn)\n",
    "\n",
    "        # Reset selection index\n",
    "        self.selected_index = -1\n",
    "\n",
    "    def clear_suggestions(self):\n",
    "        # Remove all suggestion buttons\n",
    "        for btn in self.suggestion_buttons:\n",
    "            btn.destroy()\n",
    "        self.suggestion_buttons.clear()  # Clear the list of buttons\n",
    "\n",
    "    def select_word(self, word):\n",
    "        print(f\"Selected word: {word}\")\n",
    "        for i in range(len(word_to_anchor_dict[word])):\n",
    "            anchor = word_to_anchor_dict[word][i]\n",
    "            title = word_to_title_dict[word][i]\n",
    "            link_html = f'<a href=\"#{anchor}\">go to {title}</a>'\n",
    "            display(HTML(link_html))\n",
    "        current_text = self.entry.get()  # Get current text in entry\n",
    "        self.entry.delete(0, tk.END)  # Clear the entry box\n",
    "        self.entry.insert(0, current_text)\n",
    "\n",
    "    def navigate_up(self):\n",
    "        if self.suggestion_buttons and self.selected_index > 0:\n",
    "            self.selected_index -= 1\n",
    "            self.highlight_button()\n",
    "\n",
    "    def navigate_down(self):\n",
    "        if self.suggestion_buttons and self.selected_index < len(self.suggestion_buttons) - 1:\n",
    "            self.selected_index += 1\n",
    "            self.highlight_button()\n",
    "\n",
    "    def highlight_button(self):\n",
    "        # Highlight the currently selected button\n",
    "        for index, btn in enumerate(self.suggestion_buttons):\n",
    "            if index == self.selected_index:\n",
    "                btn.config(bg=\"lightblue\")  # Highlight color\n",
    "            else:\n",
    "                btn.config(bg=\"SystemButtonFace\")  # Default color\n",
    "\n",
    "    def handle_keypress(self, event):\n",
    "        if event.keysym == \"Up\":\n",
    "            self.navigate_up()\n",
    "        elif event.keysym == \"Down\":\n",
    "            self.navigate_down()\n",
    "        elif event.keysym == \"Return\":\n",
    "            if self.selected_index != -1:\n",
    "                self.select_word(self.suggestion_buttons[self.selected_index][\"text\"])\n",
    "\n",
    "\n",
    "# parameters\n",
    "notebook_path = \"word_completion.ipynb\"\n",
    "\n",
    "\n",
    "# parse content from markdowns\n",
    "word_to_anchor_dict = {}\n",
    "word_to_title_dict = {}\n",
    "markdown_cells = get_markdown_cells(notebook_path=notebook_path)\n",
    "for cell in markdown_cells:\n",
    "    if \"</a>\" in cell:\n",
    "        anchor = re.findall(pattern='=\"(.*?)\"', string=cell)[0]\n",
    "        title = re.findall(pattern='<p id=\"title\">(.*?)</p>', string=cell)[0]\n",
    "        content = re.findall(pattern='<p>(.*?)</p>', string=cell)[0]\n",
    "        \n",
    "        words = list(set([clean(w) for w in content.split(\" \") + title.split(\" \")]))\n",
    "        for word in words:\n",
    "            if word in word_to_anchor_dict:\n",
    "                word_to_anchor_dict[word] = word_to_anchor_dict[word] + [anchor]\n",
    "                word_to_title_dict[word] = word_to_title_dict[word] + [title]\n",
    "            else:\n",
    "                word_to_anchor_dict[word] = [anchor]\n",
    "                word_to_title_dict[word] = [title]\n",
    "# open ui\n",
    "root = tk.Tk()\n",
    "app = WordSuggestionApp(root, list(word_to_anchor_dict.keys()))\n",
    "root.bind(\"<Key>\", app.handle_keypress)\n",
    "root.mainloop()"
   ]
  },
  {
   "cell_type": "markdown",
   "metadata": {},
   "source": [
    "# Actual Notebook start"
   ]
  },
  {
   "cell_type": "markdown",
   "metadata": {},
   "source": [
    "<a id=\"cell_a\"></a>\n",
    "\n",
    "<p id=\"title\">Cell A</p>\n",
    "<p>hallodri hallali hallig hallige hallo</p>"
   ]
  },
  {
   "cell_type": "markdown",
   "metadata": {},
   "source": [
    "<a id=\"cell_b\"></a>\n",
    "\n",
    "<p id=\"title\">Cell B</p>\n",
    "<p>hallo halo hall hallihallo halle</p>"
   ]
  }
 ],
 "metadata": {
  "kernelspec": {
   "display_name": "Python 3",
   "language": "python",
   "name": "python3"
  },
  "language_info": {
   "codemirror_mode": {
    "name": "ipython",
    "version": 3
   },
   "file_extension": ".py",
   "mimetype": "text/x-python",
   "name": "python",
   "nbconvert_exporter": "python",
   "pygments_lexer": "ipython3",
   "version": "3.12.4"
  }
 },
 "nbformat": 4,
 "nbformat_minor": 2
}
