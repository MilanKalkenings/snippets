{
 "cells": [
  {
   "cell_type": "markdown",
   "metadata": {},
   "source": [
    "# Python Excel Handling Basics\n",
    "Because you will encounter excel - no matter if you want or not\n",
    "\n",
    "This notebook covers:\n",
    "\n",
    "- text alignment (correctly display newlines in xlsx files exported from pandas)\n",
    "- set cell borders & fonts\n",
    "- set cell widths"
   ]
  },
  {
   "cell_type": "code",
   "execution_count": 1,
   "metadata": {},
   "outputs": [
    {
     "data": {
      "text/plain": [
       "'\\npip install openpyxl==3.1.5\\npip install pandas==2.2.3\\npip install xlsxwriter==3.2.0\\n'"
      ]
     },
     "execution_count": 1,
     "metadata": {},
     "output_type": "execute_result"
    }
   ],
   "source": [
    "\"\"\"\n",
    "pip install openpyxl==3.1.5\n",
    "pip install pandas==2.2.3\n",
    "pip install xlsxwriter==3.2.0\n",
    "\"\"\""
   ]
  },
  {
   "cell_type": "code",
   "execution_count": 2,
   "metadata": {},
   "outputs": [],
   "source": [
    "import pandas as pd\n",
    "from openpyxl import load_workbook\n",
    "from openpyxl.styles import Alignment\n",
    "\n",
    "\n",
    "# general parameters\n",
    "save_file = \"aligned.xlsx\"\n",
    "\n",
    "# create DataFrame\n",
    "df = pd.DataFrame({\"texts\": [\"line1\\nline2\", \"line1\"], \"numbers\": [1, 2], \"long header name\": [3, 4]})\n",
    "\n",
    "\n",
    "\n",
    "# Write DataFrame with defined header and body formatting and cell widths\n",
    "with pd.ExcelWriter(save_file, engine=\"xlsxwriter\") as writer:\n",
    "    df.to_excel(writer, sheet_name=\"MySheet\", index=False)\n",
    "    workbook = writer.book\n",
    "    worksheet = writer.sheets[\"MySheet\"]\n",
    "    \n",
    "    # define & apply header formatting (bold, bottom horizontal line, vertical lines)\n",
    "    header_format = workbook.add_format({\n",
    "        \"bold\": True,\n",
    "        \"bottom\": 2,  # bold cell bottom lines\n",
    "        \"left\": 1  # thin left cell lines\n",
    "    })\n",
    "    for col_num, col_header in enumerate(df.columns.values):\n",
    "        worksheet.set_column(col_num, col_num, len(col_header) + 1)  # cell width aligned to header length \n",
    "        worksheet.write(0, col_num, col_header, header_format)  # header format\n",
    "\n",
    "    # define & apply body formatting (vertical lines)\n",
    "    cell_format = workbook.add_format({\n",
    "        \"left\": 1 \n",
    "    })\n",
    "    for row in range(1, len(df) + 1):\n",
    "        for col in range(len(df.columns)):\n",
    "            worksheet.write(row, col, df.iloc[row - 1, col], cell_format)\n",
    "\n",
    "\n",
    "\n",
    "# fix string cell alignment (newlines)\n",
    "to_align_cols = [\"texts\"]\n",
    "col_ids = [id + 1 for id in range(len(df.columns)) if df.columns[id] in to_align_cols]\n",
    "wb = load_workbook(save_file)\n",
    "ws = wb.active\n",
    "for col_id in col_ids:\n",
    "    for row_id in range(len(df)):\n",
    "        cell = ws.cell(row=row_id+2, column=col_id)\n",
    "        cell.alignment = Alignment(wrap_text=True)\n",
    "wb.save(save_file)"
   ]
  }
 ],
 "metadata": {
  "kernelspec": {
   "display_name": "Python 3",
   "language": "python",
   "name": "python3"
  },
  "language_info": {
   "codemirror_mode": {
    "name": "ipython",
    "version": 3
   },
   "file_extension": ".py",
   "mimetype": "text/x-python",
   "name": "python",
   "nbconvert_exporter": "python",
   "pygments_lexer": "ipython3",
   "version": "3.12.4"
  }
 },
 "nbformat": 4,
 "nbformat_minor": 2
}
